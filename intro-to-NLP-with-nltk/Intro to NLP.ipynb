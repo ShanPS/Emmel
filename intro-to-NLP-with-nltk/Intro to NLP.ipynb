{
 "cells": [
  {
   "cell_type": "markdown",
   "metadata": {},
   "source": [
    "## Intro to NLP with NLTK\n",
    "** Topics Covered: **\n",
    "1. Tokenizing (sent_tokenize, word_tokenize)\n",
    "2. Stemming/Lemmatization\n",
    "3. POS Tagging\n",
    "4. Chunking/Chinking\n",
    "5. Named Entity Recognition"
   ]
  },
  {
   "cell_type": "code",
   "execution_count": 45,
   "metadata": {},
   "outputs": [],
   "source": [
    "# imports\n",
    "import sys\n",
    "import nltk\n",
    "import sklearn"
   ]
  },
  {
   "cell_type": "code",
   "execution_count": 5,
   "metadata": {},
   "outputs": [
    {
     "name": "stdout",
     "output_type": "stream",
     "text": [
      "python 3.6.1 (v3.6.1:69c0db5, Mar 21 2017, 18:41:36) [MSC v.1900 64 bit (AMD64)]\n",
      "nltk 3.4\n",
      "sklearn 0.19.1\n"
     ]
    }
   ],
   "source": [
    "# versions\n",
    "print('python {}'.format(sys.version))\n",
    "print('nltk {}'.format(nltk.__version__))\n",
    "print('sklearn {}'.format(sklearn.__version__))"
   ]
  },
  {
   "cell_type": "code",
   "execution_count": 7,
   "metadata": {},
   "outputs": [
    {
     "name": "stdout",
     "output_type": "stream",
     "text": [
      "[' Marsha is on her way.', 'She called from the car phone I think.', 'It sounded like the car phone, to let us know \\n           that she would be delayed.', \"I would like to welcome two people who haven't been with us before.\", \"Suzanne Clewell, we're delighted to have you with us today.\", 'Suzanne, would you tell us a little bit \\n           about what you do?']\n",
      "['Marsha', 'is', 'on', 'her', 'way', '.', 'She', 'called', 'from', 'the', 'car', 'phone', 'I', 'think', '.', 'It', 'sounded', 'like', 'the', 'car', 'phone', ',', 'to', 'let', 'us', 'know', 'that', 'she', 'would', 'be', 'delayed', '.', 'I', 'would', 'like', 'to', 'welcome', 'two', 'people', 'who', 'have', \"n't\", 'been', 'with', 'us', 'before', '.', 'Suzanne', 'Clewell', ',', 'we', \"'re\", 'delighted', 'to', 'have', 'you', 'with', 'us', 'today', '.', 'Suzanne', ',', 'would', 'you', 'tell', 'us', 'a', 'little', 'bit', 'about', 'what', 'you', 'do', '?']\n"
     ]
    }
   ],
   "source": [
    "# tokenization\n",
    "from nltk import sent_tokenize, word_tokenize\n",
    "\n",
    "text = ''' Marsha is on her way. She called from the car phone I think. It sounded like the car phone, to let us know \n",
    "           that she would be delayed. I would like to welcome two people who haven't been with us before.\n",
    "           Suzanne Clewell, we're delighted to have you with us today. Suzanne, would you tell us a little bit \n",
    "           about what you do? '''\n",
    "\n",
    "print(sent_tokenize(text))\n",
    "print(word_tokenize(text))"
   ]
  },
  {
   "cell_type": "code",
   "execution_count": 13,
   "metadata": {},
   "outputs": [
    {
     "name": "stdout",
     "output_type": "stream",
     "text": [
      "['i', 'me', 'my', 'myself', 'we', 'our', 'ours', 'ourselves', 'you', \"you're\", \"you've\", \"you'll\", \"you'd\", 'your', 'yours', 'yourself', 'yourselves', 'he', 'him', 'his', 'himself', 'she', \"she's\", 'her', 'hers', 'herself', 'it', \"it's\", 'its', 'itself', 'they', 'them', 'their', 'theirs', 'themselves', 'what', 'which', 'who', 'whom', 'this', 'that', \"that'll\", 'these', 'those', 'am', 'is', 'are', 'was', 'were', 'be', 'been', 'being', 'have', 'has', 'had', 'having', 'do', 'does', 'did', 'doing', 'a', 'an', 'the', 'and', 'but', 'if', 'or', 'because', 'as', 'until', 'while', 'of', 'at', 'by', 'for', 'with', 'about', 'against', 'between', 'into', 'through', 'during', 'before', 'after', 'above', 'below', 'to', 'from', 'up', 'down', 'in', 'out', 'on', 'off', 'over', 'under', 'again', 'further', 'then', 'once', 'here', 'there', 'when', 'where', 'why', 'how', 'all', 'any', 'both', 'each', 'few', 'more', 'most', 'other', 'some', 'such', 'no', 'nor', 'not', 'only', 'own', 'same', 'so', 'than', 'too', 'very', 's', 't', 'can', 'will', 'just', 'don', \"don't\", 'should', \"should've\", 'now', 'd', 'll', 'm', 'o', 're', 've', 'y', 'ain', 'aren', \"aren't\", 'couldn', \"couldn't\", 'didn', \"didn't\", 'doesn', \"doesn't\", 'hadn', \"hadn't\", 'hasn', \"hasn't\", 'haven', \"haven't\", 'isn', \"isn't\", 'ma', 'mightn', \"mightn't\", 'mustn', \"mustn't\", 'needn', \"needn't\", 'shan', \"shan't\", 'shouldn', \"shouldn't\", 'wasn', \"wasn't\", 'weren', \"weren't\", 'won', \"won't\", 'wouldn', \"wouldn't\"]\n"
     ]
    }
   ],
   "source": [
    "# stopwords\n",
    "from nltk.corpus import stopwords\n",
    "\n",
    "print(stopwords.words('english'))"
   ]
  },
  {
   "cell_type": "code",
   "execution_count": 22,
   "metadata": {},
   "outputs": [
    {
     "name": "stdout",
     "output_type": "stream",
     "text": [
      "Stemmer :\n",
      "studi\n",
      "studi\n",
      "studi\n",
      "student\n",
      "\n",
      "Lemmatizer :\n",
      "study\n",
      "studied\n",
      "study\n",
      "student\n"
     ]
    }
   ],
   "source": [
    "# Stemming and Lemmatization\n",
    "from nltk.stem import PorterStemmer\n",
    "from nltk.stem import WordNetLemmatizer\n",
    "\n",
    "words = ['study', 'studied', 'studies', 'student']\n",
    "\n",
    "print('Stemmer :')\n",
    "for w in words:\n",
    "    print(PorterStemmer().stem(w))\n",
    "\n",
    "print('\\nLemmatizer :')\n",
    "for w in words:\n",
    "    print(WordNetLemmatizer().lemmatize(w))"
   ]
  },
  {
   "cell_type": "code",
   "execution_count": 30,
   "metadata": {},
   "outputs": [
    {
     "name": "stdout",
     "output_type": "stream",
     "text": [
      "[('PRESIDENT', 'NNP'), ('GEORGE', 'NNP'), ('W.', 'NNP'), ('BUSH', 'NNP'), (\"'S\", 'POS'), ('ADDRESS', 'NNP'), ('BEFORE', 'IN'), ('A', 'NNP'), ('JOINT', 'NNP'), ('SESSION', 'NNP'), ('OF', 'IN'), ('THE', 'NNP'), ('CONGRESS', 'NNP'), ('ON', 'NNP'), ('THE', 'NNP'), ('STATE', 'NNP'), ('OF', 'IN'), ('THE', 'NNP'), ('UNION', 'NNP'), ('January', 'NNP'), ('31', 'CD'), (',', ','), ('2006', 'CD'), ('THE', 'NNP'), ('PRESIDENT', 'NNP'), (':', ':'), ('Thank', 'NNP'), ('you', 'PRP'), ('all', 'DT'), ('.', '.')]\n",
      "[('Mr.', 'NNP'), ('Speaker', 'NNP'), (',', ','), ('Vice', 'NNP'), ('President', 'NNP'), ('Cheney', 'NNP'), (',', ','), ('members', 'NNS'), ('of', 'IN'), ('Congress', 'NNP'), (',', ','), ('members', 'NNS'), ('of', 'IN'), ('the', 'DT'), ('Supreme', 'NNP'), ('Court', 'NNP'), ('and', 'CC'), ('diplomatic', 'JJ'), ('corps', 'NN'), (',', ','), ('distinguished', 'JJ'), ('guests', 'NNS'), (',', ','), ('and', 'CC'), ('fellow', 'JJ'), ('citizens', 'NNS'), (':', ':'), ('Today', 'VB'), ('our', 'PRP$'), ('nation', 'NN'), ('lost', 'VBD'), ('a', 'DT'), ('beloved', 'VBN'), (',', ','), ('graceful', 'JJ'), (',', ','), ('courageous', 'JJ'), ('woman', 'NN'), ('who', 'WP'), ('called', 'VBD'), ('America', 'NNP'), ('to', 'TO'), ('its', 'PRP$'), ('founding', 'NN'), ('ideals', 'NNS'), ('and', 'CC'), ('carried', 'VBD'), ('on', 'IN'), ('a', 'DT'), ('noble', 'JJ'), ('dream', 'NN'), ('.', '.')]\n",
      "[('Tonight', 'NN'), ('we', 'PRP'), ('are', 'VBP'), ('comforted', 'VBN'), ('by', 'IN'), ('the', 'DT'), ('hope', 'NN'), ('of', 'IN'), ('a', 'DT'), ('glad', 'JJ'), ('reunion', 'NN'), ('with', 'IN'), ('the', 'DT'), ('husband', 'NN'), ('who', 'WP'), ('was', 'VBD'), ('taken', 'VBN'), ('so', 'RB'), ('long', 'RB'), ('ago', 'RB'), (',', ','), ('and', 'CC'), ('we', 'PRP'), ('are', 'VBP'), ('grateful', 'JJ'), ('for', 'IN'), ('the', 'DT'), ('good', 'JJ'), ('life', 'NN'), ('of', 'IN'), ('Coretta', 'NNP'), ('Scott', 'NNP'), ('King', 'NNP'), ('.', '.')]\n",
      "[('(', '('), ('Applause', 'NNP'), ('.', '.'), (')', ')')]\n",
      "[('President', 'NNP'), ('George', 'NNP'), ('W.', 'NNP'), ('Bush', 'NNP'), ('reacts', 'VBZ'), ('to', 'TO'), ('applause', 'VB'), ('during', 'IN'), ('his', 'PRP$'), ('State', 'NNP'), ('of', 'IN'), ('the', 'DT'), ('Union', 'NNP'), ('Address', 'NNP'), ('at', 'IN'), ('the', 'DT'), ('Capitol', 'NNP'), (',', ','), ('Tuesday', 'NNP'), (',', ','), ('Jan', 'NNP'), ('.', '.')]\n"
     ]
    }
   ],
   "source": [
    "# POS tagging\n",
    "from nltk.corpus import state_union\n",
    "from nltk.tokenize import PunktSentenceTokenizer\n",
    "\n",
    "train_text = state_union.raw('2005-GWBush.txt')\n",
    "test_text = state_union.raw('2006-GWBush.txt')\n",
    "\n",
    "custom_sentence_tokenizer = PunktSentenceTokenizer(train_text)\n",
    "tokenized_test_text = custom_sentence_tokenizer.tokenize(test_text)\n",
    "\n",
    "def process():\n",
    "    try:\n",
    "        for sentence in tokenized_test_text[:5]:\n",
    "            words = nltk.word_tokenize(sentence)\n",
    "            tagged = nltk.pos_tag(words)\n",
    "            print(tagged)\n",
    "    except Exception as e:\n",
    "        print(str(e))\n",
    "\n",
    "process()"
   ]
  },
  {
   "cell_type": "code",
   "execution_count": 31,
   "metadata": {},
   "outputs": [
    {
     "name": "stdout",
     "output_type": "stream",
     "text": [
      "$: dollar\n",
      "    $ -$ --$ A$ C$ HK$ M$ NZ$ S$ U.S.$ US$\n",
      "'': closing quotation mark\n",
      "    ' ''\n",
      "(: opening parenthesis\n",
      "    ( [ {\n",
      "): closing parenthesis\n",
      "    ) ] }\n",
      ",: comma\n",
      "    ,\n",
      "--: dash\n",
      "    --\n",
      ".: sentence terminator\n",
      "    . ! ?\n",
      ":: colon or ellipsis\n",
      "    : ; ...\n",
      "CC: conjunction, coordinating\n",
      "    & 'n and both but either et for less minus neither nor or plus so\n",
      "    therefore times v. versus vs. whether yet\n",
      "CD: numeral, cardinal\n",
      "    mid-1890 nine-thirty forty-two one-tenth ten million 0.5 one forty-\n",
      "    seven 1987 twenty '79 zero two 78-degrees eighty-four IX '60s .025\n",
      "    fifteen 271,124 dozen quintillion DM2,000 ...\n",
      "DT: determiner\n",
      "    all an another any both del each either every half la many much nary\n",
      "    neither no some such that the them these this those\n",
      "EX: existential there\n",
      "    there\n",
      "FW: foreign word\n",
      "    gemeinschaft hund ich jeux habeas Haementeria Herr K'ang-si vous\n",
      "    lutihaw alai je jour objets salutaris fille quibusdam pas trop Monte\n",
      "    terram fiche oui corporis ...\n",
      "IN: preposition or conjunction, subordinating\n",
      "    astride among uppon whether out inside pro despite on by throughout\n",
      "    below within for towards near behind atop around if like until below\n",
      "    next into if beside ...\n",
      "JJ: adjective or numeral, ordinal\n",
      "    third ill-mannered pre-war regrettable oiled calamitous first separable\n",
      "    ectoplasmic battery-powered participatory fourth still-to-be-named\n",
      "    multilingual multi-disciplinary ...\n",
      "JJR: adjective, comparative\n",
      "    bleaker braver breezier briefer brighter brisker broader bumper busier\n",
      "    calmer cheaper choosier cleaner clearer closer colder commoner costlier\n",
      "    cozier creamier crunchier cuter ...\n",
      "JJS: adjective, superlative\n",
      "    calmest cheapest choicest classiest cleanest clearest closest commonest\n",
      "    corniest costliest crassest creepiest crudest cutest darkest deadliest\n",
      "    dearest deepest densest dinkiest ...\n",
      "LS: list item marker\n",
      "    A A. B B. C C. D E F First G H I J K One SP-44001 SP-44002 SP-44005\n",
      "    SP-44007 Second Third Three Two * a b c d first five four one six three\n",
      "    two\n",
      "MD: modal auxiliary\n",
      "    can cannot could couldn't dare may might must need ought shall should\n",
      "    shouldn't will would\n",
      "NN: noun, common, singular or mass\n",
      "    common-carrier cabbage knuckle-duster Casino afghan shed thermostat\n",
      "    investment slide humour falloff slick wind hyena override subhumanity\n",
      "    machinist ...\n",
      "NNP: noun, proper, singular\n",
      "    Motown Venneboerger Czestochwa Ranzer Conchita Trumplane Christos\n",
      "    Oceanside Escobar Kreisler Sawyer Cougar Yvette Ervin ODI Darryl CTCA\n",
      "    Shannon A.K.C. Meltex Liverpool ...\n",
      "NNPS: noun, proper, plural\n",
      "    Americans Americas Amharas Amityvilles Amusements Anarcho-Syndicalists\n",
      "    Andalusians Andes Andruses Angels Animals Anthony Antilles Antiques\n",
      "    Apache Apaches Apocrypha ...\n",
      "NNS: noun, common, plural\n",
      "    undergraduates scotches bric-a-brac products bodyguards facets coasts\n",
      "    divestitures storehouses designs clubs fragrances averages\n",
      "    subjectivists apprehensions muses factory-jobs ...\n",
      "PDT: pre-determiner\n",
      "    all both half many quite such sure this\n",
      "POS: genitive marker\n",
      "    ' 's\n",
      "PRP: pronoun, personal\n",
      "    hers herself him himself hisself it itself me myself one oneself ours\n",
      "    ourselves ownself self she thee theirs them themselves they thou thy us\n",
      "PRP$: pronoun, possessive\n",
      "    her his mine my our ours their thy your\n",
      "RB: adverb\n",
      "    occasionally unabatingly maddeningly adventurously professedly\n",
      "    stirringly prominently technologically magisterially predominately\n",
      "    swiftly fiscally pitilessly ...\n",
      "RBR: adverb, comparative\n",
      "    further gloomier grander graver greater grimmer harder harsher\n",
      "    healthier heavier higher however larger later leaner lengthier less-\n",
      "    perfectly lesser lonelier longer louder lower more ...\n",
      "RBS: adverb, superlative\n",
      "    best biggest bluntest earliest farthest first furthest hardest\n",
      "    heartiest highest largest least less most nearest second tightest worst\n",
      "RP: particle\n",
      "    aboard about across along apart around aside at away back before behind\n",
      "    by crop down ever fast for forth from go high i.e. in into just later\n",
      "    low more off on open out over per pie raising start teeth that through\n",
      "    under unto up up-pp upon whole with you\n",
      "SYM: symbol\n",
      "    % & ' '' ''. ) ). * + ,. < = > @ A[fj] U.S U.S.S.R * ** ***\n",
      "TO: \"to\" as preposition or infinitive marker\n",
      "    to\n",
      "UH: interjection\n",
      "    Goodbye Goody Gosh Wow Jeepers Jee-sus Hubba Hey Kee-reist Oops amen\n",
      "    huh howdy uh dammit whammo shucks heck anyways whodunnit honey golly\n",
      "    man baby diddle hush sonuvabitch ...\n",
      "VB: verb, base form\n",
      "    ask assemble assess assign assume atone attention avoid bake balkanize\n",
      "    bank begin behold believe bend benefit bevel beware bless boil bomb\n",
      "    boost brace break bring broil brush build ...\n",
      "VBD: verb, past tense\n",
      "    dipped pleaded swiped regummed soaked tidied convened halted registered\n",
      "    cushioned exacted snubbed strode aimed adopted belied figgered\n",
      "    speculated wore appreciated contemplated ...\n",
      "VBG: verb, present participle or gerund\n",
      "    telegraphing stirring focusing angering judging stalling lactating\n",
      "    hankerin' alleging veering capping approaching traveling besieging\n",
      "    encrypting interrupting erasing wincing ...\n",
      "VBN: verb, past participle\n",
      "    multihulled dilapidated aerosolized chaired languished panelized used\n",
      "    experimented flourished imitated reunifed factored condensed sheared\n",
      "    unsettled primed dubbed desired ...\n",
      "VBP: verb, present tense, not 3rd person singular\n",
      "    predominate wrap resort sue twist spill cure lengthen brush terminate\n",
      "    appear tend stray glisten obtain comprise detest tease attract\n",
      "    emphasize mold postpone sever return wag ...\n",
      "VBZ: verb, present tense, 3rd person singular\n",
      "    bases reconstructs marks mixes displeases seals carps weaves snatches\n",
      "    slumps stretches authorizes smolders pictures emerges stockpiles\n",
      "    seduces fizzes uses bolsters slaps speaks pleads ...\n",
      "WDT: WH-determiner\n",
      "    that what whatever which whichever\n",
      "WP: WH-pronoun\n",
      "    that what whatever whatsoever which who whom whosoever\n",
      "WP$: WH-pronoun, possessive\n",
      "    whose\n",
      "WRB: Wh-adverb\n",
      "    how however whence whenever where whereby whereever wherein whereof why\n",
      "``: opening quotation mark\n",
      "    ` ``\n"
     ]
    }
   ],
   "source": [
    "# to get tagset\n",
    "nltk.help.upenn_tagset()"
   ]
  },
  {
   "cell_type": "code",
   "execution_count": 41,
   "metadata": {},
   "outputs": [
    {
     "name": "stdout",
     "output_type": "stream",
     "text": [
      "(Chunk PRESIDENT/NNP GEORGE/NNP W./NNP BUSH/NNP)\n",
      "(Chunk ADDRESS/NNP)\n",
      "(Chunk A/NNP JOINT/NNP SESSION/NNP)\n",
      "(Chunk THE/NNP CONGRESS/NNP ON/NNP THE/NNP STATE/NNP)\n",
      "(Chunk THE/NNP UNION/NNP January/NNP)\n",
      "(Chunk THE/NNP PRESIDENT/NNP)\n",
      "(Chunk Thank/NNP)\n",
      "(Chunk Mr./NNP Speaker/NNP)\n",
      "(Chunk Vice/NNP President/NNP Cheney/NNP)\n",
      "(Chunk Congress/NNP)\n",
      "(Chunk Supreme/NNP Court/NNP)\n",
      "(Chunk called/VBD America/NNP)\n",
      "(Chunk Coretta/NNP Scott/NNP King/NNP)\n",
      "(Chunk Applause/NNP)\n",
      "(Chunk President/NNP George/NNP W./NNP Bush/NNP)\n",
      "(Chunk State/NNP)\n",
      "(Chunk Union/NNP Address/NNP)\n",
      "(Chunk Capitol/NNP)\n",
      "(Chunk Tuesday/NNP)\n",
      "(Chunk Jan/NNP)\n"
     ]
    }
   ],
   "source": [
    "# Chunking with NLTK\n",
    "from nltk.corpus import state_union\n",
    "from nltk.tokenize import PunktSentenceTokenizer\n",
    "\n",
    "train_text = state_union.raw('2005-GWBush.txt')\n",
    "test_text = state_union.raw('2006-GWBush.txt')\n",
    "\n",
    "custom_sentence_tokenizer = PunktSentenceTokenizer(train_text)\n",
    "tokenized_test_text = custom_sentence_tokenizer.tokenize(test_text)\n",
    "\n",
    "def process():\n",
    "    try:\n",
    "        for sentence in tokenized_test_text[:5]:\n",
    "            words = nltk.word_tokenize(sentence)\n",
    "            tagged = nltk.pos_tag(words)\n",
    "            \n",
    "            # combine POS tag with regular expression\n",
    "            chunk_gram = r'''Chunk: {<RB.?>*<VB.?>*<NNP>+<NN>?}'''\n",
    "            chunk_parser = nltk.RegexpParser(chunk_gram)\n",
    "            chunked = chunk_parser.parse(tagged)\n",
    "            \n",
    "            # print nltk tree\n",
    "            for subtree in chunked.subtrees(filter=lambda x: x.label() == 'Chunk'):\n",
    "                print(subtree)\n",
    "            \n",
    "            # draw chunks with nltk\n",
    "            # chunked.draw()\n",
    "            \n",
    "    except Exception as e:\n",
    "        print(str(e))\n",
    "\n",
    "process()"
   ]
  },
  {
   "cell_type": "code",
   "execution_count": 43,
   "metadata": {},
   "outputs": [
    {
     "name": "stdout",
     "output_type": "stream",
     "text": [
      "(Chunk PRESIDENT/NNP GEORGE/NNP W./NNP BUSH/NNP 'S/POS ADDRESS/NNP)\n",
      "(Chunk A/NNP JOINT/NNP SESSION/NNP)\n",
      "(Chunk THE/NNP CONGRESS/NNP ON/NNP THE/NNP STATE/NNP)\n",
      "(Chunk\n",
      "  THE/NNP\n",
      "  UNION/NNP\n",
      "  January/NNP\n",
      "  31/CD\n",
      "  ,/,\n",
      "  2006/CD\n",
      "  THE/NNP\n",
      "  PRESIDENT/NNP\n",
      "  :/:\n",
      "  Thank/NNP\n",
      "  you/PRP)\n",
      "(Chunk ./.)\n",
      "(Chunk\n",
      "  Mr./NNP\n",
      "  Speaker/NNP\n",
      "  ,/,\n",
      "  Vice/NNP\n",
      "  President/NNP\n",
      "  Cheney/NNP\n",
      "  ,/,\n",
      "  members/NNS)\n",
      "(Chunk Congress/NNP ,/, members/NNS)\n",
      "(Chunk\n",
      "  Supreme/NNP\n",
      "  Court/NNP\n",
      "  and/CC\n",
      "  diplomatic/JJ\n",
      "  corps/NN\n",
      "  ,/,\n",
      "  distinguished/JJ\n",
      "  guests/NNS\n",
      "  ,/,\n",
      "  and/CC\n",
      "  fellow/JJ\n",
      "  citizens/NNS\n",
      "  :/:)\n",
      "(Chunk our/PRP$ nation/NN)\n",
      "(Chunk ,/, graceful/JJ ,/, courageous/JJ woman/NN who/WP)\n",
      "(Chunk America/NNP)\n",
      "(Chunk its/PRP$ founding/NN ideals/NNS and/CC)\n",
      "(Chunk noble/JJ dream/NN ./.)\n",
      "(Chunk Tonight/NN we/PRP)\n",
      "(Chunk hope/NN)\n",
      "(Chunk glad/JJ reunion/NN)\n",
      "(Chunk husband/NN who/WP)\n",
      "(Chunk so/RB long/RB ago/RB ,/, and/CC we/PRP)\n",
      "(Chunk grateful/JJ)\n",
      "(Chunk good/JJ life/NN)\n",
      "(Chunk Coretta/NNP Scott/NNP King/NNP ./.)\n",
      "(Chunk (/( Applause/NNP ./. )/))\n",
      "(Chunk President/NNP George/NNP W./NNP Bush/NNP)\n",
      "(Chunk his/PRP$ State/NNP)\n",
      "(Chunk Union/NNP Address/NNP)\n",
      "(Chunk Capitol/NNP ,/, Tuesday/NNP ,/, Jan/NNP ./.)\n"
     ]
    }
   ],
   "source": [
    "# Chinking with NLTK\n",
    "# The main difference is the }{, vs. {} --> This means we are removing\n",
    "# from the chink one or more sets of words as per expression\n",
    "from nltk.corpus import state_union\n",
    "from nltk.tokenize import PunktSentenceTokenizer\n",
    "\n",
    "train_text = state_union.raw('2005-GWBush.txt')\n",
    "test_text = state_union.raw('2006-GWBush.txt')\n",
    "\n",
    "custom_sentence_tokenizer = PunktSentenceTokenizer(train_text)\n",
    "tokenized_test_text = custom_sentence_tokenizer.tokenize(test_text)\n",
    "\n",
    "def process():\n",
    "    try:\n",
    "        for sentence in tokenized_test_text[:5]:\n",
    "            words = nltk.word_tokenize(sentence)\n",
    "            tagged = nltk.pos_tag(words)\n",
    "            \n",
    "            # combine POS tag with regular expression\n",
    "            chunk_gram = r'''Chunk: {<.*>+}\n",
    "                                          }<VB.?|IN|DT|TO>+{'''\n",
    "            chunk_parser = nltk.RegexpParser(chunk_gram)\n",
    "            chunked = chunk_parser.parse(tagged)\n",
    "            \n",
    "            # print nltk tree\n",
    "            for subtree in chunked.subtrees(filter=lambda x: x.label() == 'Chunk'):\n",
    "                print(subtree)\n",
    "            \n",
    "            # draw chunks with nltk\n",
    "            # chunked.draw()\n",
    "            \n",
    "    except Exception as e:\n",
    "        print(str(e))\n",
    "\n",
    "process()"
   ]
  },
  {
   "cell_type": "code",
   "execution_count": 44,
   "metadata": {},
   "outputs": [],
   "source": [
    "# Named Entity Recognition\n",
    "from nltk.corpus import state_union\n",
    "from nltk.tokenize import PunktSentenceTokenizer\n",
    "\n",
    "train_text = state_union.raw('2005-GWBush.txt')\n",
    "test_text = state_union.raw('2006-GWBush.txt')\n",
    "\n",
    "custom_sentence_tokenizer = PunktSentenceTokenizer(train_text)\n",
    "tokenized_test_text = custom_sentence_tokenizer.tokenize(test_text)\n",
    "\n",
    "def process():\n",
    "    try:\n",
    "        for sentence in tokenized_test_text[:5]:\n",
    "            words = nltk.word_tokenize(sentence)\n",
    "            tagged = nltk.pos_tag(words)\n",
    "            named_entity = nltk.ne_chunk(tagged, binary=False)\n",
    "            \n",
    "            # draw chunks with nltk\n",
    "            named_entity.draw()\n",
    "            \n",
    "    except Exception as e:\n",
    "        print(str(e))\n",
    "\n",
    "process()"
   ]
  },
  {
   "cell_type": "markdown",
   "metadata": {},
   "source": [
    "## Experiment - Text Classification\n",
    "**MOVIE REVIEW CLASSIFICATION**"
   ]
  },
  {
   "cell_type": "code",
   "execution_count": 46,
   "metadata": {},
   "outputs": [],
   "source": [
    "# imports\n",
    "import nltk\n",
    "import random\n",
    "from nltk.corpus import movie_reviews"
   ]
  },
  {
   "cell_type": "code",
   "execution_count": 102,
   "metadata": {},
   "outputs": [
    {
     "name": "stdout",
     "output_type": "stream",
     "text": [
      "Number of documents: 2000\n",
      "\n",
      "First review: (['men', 'in', 'black', 'is', 'an', 'explosive', 'mix', 'of', 'science', 'fiction', ',', 'action', ',', 'and', 'comedy', 'that', 'hits', 'the', 'target', 'in', 'every', 'possible', 'way', '.', 'although', 'another', 'alien', 'movie', ',', 'men', 'in', 'black', 'succeeds', 'in', 'every', 'way', 'that', 'independence', 'day', 'didn', \"'\", 't', ',', 'and', 'towers', 'above', 'many', 'other', 'movies', 'of', 'its', 'type', '.', 'the', 'brilliant', 'acting', ',', 'especially', 'by', 'tommy', 'lee', 'jones', 'as', 'agent', 'kay', ',', 'is', 'also', 'as', 'good', 'as', 'it', 'gets', '.', 'director', 'barry', 'sonnenfeld', ',', 'who', 'was', 'behind', 'the', 'camera', 'for', 'the', 'addams', 'family', 'movies', 'and', 'get', 'shorty', ',', 'has', 'crafted', 'a', 'masterpiece', '.', 'the', 'story', 'behind', 'men', 'in', 'black', 'is', 'just', 'as', 'interesting', 'as', 'you', 'would', 'want', 'it', 'to', 'be', '.', 'the', 'men', 'in', 'black', ',', 'or', 'mib', ',', 'are', 'a', 'top', '-', 'secret', 'governmental', 'agency', 'that', 'is', 'not', 'known', 'to', 'exist', '.', 'the', 'mib', 'are', 'responsible', 'for', '\"', 'saving', 'the', 'world', 'from', 'the', 'scum', 'of', 'the', 'universe', '\"', '.', 'a', 'though', 'job', ',', 'indeed', '.', 'the', 'film', 'opens', 'with', 'a', 'truckload', 'of', 'illegal', 'aliens', '(', 'the', 'human', 'kind', ')', 'being', 'transported', 'across', 'the', 'mexico', 'border', 'and', 'into', 'the', 'united', 'states', '.', 'presumably', ',', 'these', '\"', 'aliens', '\"', 'are', 'all', 'migrant', 'workers', '.', 'that', 'is', ',', 'until', 'the', 'mib', 'show', 'up', 'and', 'begin', 'interrogating', 'them', '.', 'agent', 'kay', 'selects', 'a', 'particular', 'suspicious', 'worker', 'and', 'takes', 'him', 'away', 'from', 'the', 'other', 'local', 'authorities', 'to', 'discover', 'that', 'he', 'is', 'not', 'an', 'illegal', 'human', 'alien', ',', 'but', 'a', 'real', 'extra', '-', 'terrestrial', 'alien', '.', 'when', 'the', 'alien', 'makes', 'a', 'run', 'for', 'it', ',', 'agent', 'kay', 'is', 'forced', 'to', 'eliminate', 'the', 'alien', 'with', 'one', 'of', 'the', 'mib', \"'\", 's', 'very', 'unique', 'weapons', ',', 'and', 'after', 'one', 'of', 'the', 'local', 'law', 'enforcement', 'officers', 'witnesses', 'this', 'bizarre', 'occurrence', ',', 'agent', 'kay', 'is', 'forced', 'to', 'use', 'another', 'very', 'unique', 'device', 'on', 'them', '.', 'the', 'device', ',', 'described', 'as', '\"', 'out', 'of', 'state', '\"', ',', 'eliminates', 'the', 'memory', 'of', 'anyone', 'it', 'is', 'used', 'on', '.', '>', 'from', 'here', ',', 'we', 'are', 'introduced', 'to', 'james', 'edwards', ',', 'played', 'very', 'well', 'by', 'will', 'smith', '.', 'edwards', ',', 'a', 'police', 'officer', ',', 'is', 'chasing', 'a', 'fleeing', 'criminal', '.', 'the', 'criminal', 'gives', 'a', 'very', 'good', 'chase', ',', 'and', 'at', 'one', 'point', 'when', 'edwards', 'confronts', 'him', ',', 'the', 'criminal', 'pulls', 'out', 'a', 'very', 'different', 'looking', 'weapon', 'that', 'disintegrated', 'when', 'it', 'hit', 'the', 'ground', '.', 'edwards', 'continues', 'to', 'chase', 'the', 'very', 'athletic', 'criminal', 'to', 'the', 'top', 'of', 'a', 'building', ',', 'where', 'the', 'criminal', 'informs', 'edwards', 'that', 'he', 'must', 'let', 'him', 'go', ',', 'because', 'someone', 'is', 'after', 'him', '.', 'edwards', 'doesn', \"'\", 't', 'take', 'this', 'seriously', ',', 'but', 'when', 'the', 'criminal', 'shows', 'very', 'non', '-', 'human', 'characteristics', 'and', 'leaps', 'off', 'the', 'building', ',', 'he', 'begins', 'to', 'wonder', '.', 'back', 'at', 'the', 'police', 'station', ',', 'agent', 'kay', 'shows', 'up', 'to', 'ask', 'edwards', 'a', 'few', 'questions', '.', 'he', 'informs', 'edwards', 'that', 'is', 'was', ',', 'in', 'fact', ',', 'a', 'non', '-', 'human', 'that', 'he', 'was', 'chasing', ',', 'and', 'that', 'the', 'gun', 'he', 'pulled', 'out', 'was', 'definitely', 'not', 'man', '-', 'made', '.', 'he', 'has', 'edwards', 'identify', 'the', 'gun', ',', 'and', 'asks', 'edwards', 'to', 'come', 'to', 'the', 'mib', 'headquarters', 'the', 'following', 'day', '.', 'edwards', 'arrives', 'and', 'finds', 'that', 'he', 'is', 'involved', 'in', 'a', 'recruiting', 'process', ',', 'along', 'with', 'various', 'other', 'men', 'who', 'seem', 'a', 'bit', 'more', 'qualified', 'than', 'he', '.', 'after', 'goofing', 'up', 'for', 'half', 'of', 'the', 'time', ',', 'edwards', 'puts', 'on', 'a', 'show', 'at', 'the', 'firing', 'range', ',', 'and', 'agent', 'kay', 'notes', 'the', 'reason', 'why', 'he', 'feels', 'edwards', 'should', 'be', 'the', 'man', 'to', 'join', 'the', 'mib', ':', 'he', 'chased', 'down', 'the', '\"', 'criminal', '\"', 'on', 'foot', ',', 'which', 'is', 'something', 'that', 'no', 'one', 'is', 'supposed', 'to', 'be', 'able', 'to', 'do', '.', 'in', 'the', 'meantime', ',', 'an', 'upstate', 'new', 'york', 'farm', 'has', 'a', 'very', 'close', 'encounter', '.', 'edgar', '(', 'vincent', 'd', \"'\", 'onofrio', ')', ',', 'owner', 'of', 'the', 'farm', ',', 'investigates', 'a', 'strange', 'crash', 'landing', 'and', 'is', 'attacked', 'by', 'the', 'inhabitant', 'of', 'the', 'flying', 'object', ',', 'which', 'presumes', 'to', 'jump', 'inside', 'edgar', 'and', 'use', 'his', 'body', 'as', 'a', 'human', 'transport', '.', 'the', '\"', 'bug', '\"', ',', 'as', 'he', 'is', 'called', ',', 'is', 'an', 'intergalactic', 'terrorist', 'who', 'has', 'come', 'to', 'earth', 'to', 'attempt', 'to', 'kill', 'two', 'ambassadors', '.', 'and', 'it', 'up', 'to', 'the', 'mib', ',', 'with', 'newly', 'recruited', 'agent', 'jay', '(', 'formerly', 'james', 'edwards', ')', 'to', 'exterminate', 'the', 'bug', 'and', 'save', 'the', 'planet', 'from', 'intergalactic', 'war', '.', 'men', 'in', 'black', 'delightfully', 'combines', 'fast', '-', 'paced', 'action', 'with', 'often', 'hilarious', 'comedy', ',', 'which', 'is', 'usually', 'from', 'will', 'smith', ',', 'although', 'tommy', 'lee', 'jones', 'opens', 'up', 'his', 'comedic', 'personality', 'in', 'this', 'film', '.', 'the', 'special', 'effects', 'are', 'also', 'very', 'well', 'done', 'and', 'are', 'not', 'the', 'entire', 'source', 'of', 'the', 'plot', ',', 'as', 'in', 'another', 'big', 'alien', 'film', 'from', 'the', 'past', 'summer', '.', 'screenwriter', 'ed', 'solomon', ',', 'writer', 'of', 'super', 'mario', 'bros', '.', 'and', 'the', 'upcoming', 'x', '-', 'men', 'film', ',', 'has', 'surely', 'struck', 'gold', 'with', 'this', 'story', '.', 'all', 'ages', 'will', 'enjoy', 'men', 'in', 'black', '.', 'it', 'is', 'an', 'extremely', 'fun', 'film', 'that', 'you', 'will', 'want', 'to', 'see', 'again', '.', 'although', 'it', 'runs', 'a', 'very', 'quick', 'and', 'speedy', '96', 'minutes', ',', 'the', 'entire', 'film', 'from', 'beginning', 'to', 'end', 'is', 'a', 'non', '-', 'stop', 'adventure', '.', 'the', 'ending', 'of', 'the', 'film', ',', 'which', 'ties', 'up', 'a', 'few', 'loose', 'ends', 'for', 'one', 'of', 'the', 'main', 'characters', ',', 'is', 'also', 'very', 'well', 'done', '.', 'a', 'sequel', 'is', 'already', 'being', 'planned', ',', 'so', 'there', 'is', 'more', 'to', 'look', 'forward', 'to', '!'], 'pos')\n",
      "\n",
      "vocab size: 39768\n",
      "\n",
      "Most common words: [(',', 77717), ('the', 76529), ('.', 65876), ('a', 38106), ('and', 35576), ('of', 34123), ('to', 31937), (\"'\", 30585), ('is', 25195), ('in', 21822), ('s', 18513), ('\"', 17612), ('it', 16107), ('that', 15924), ('-', 15595)]\n"
     ]
    }
   ],
   "source": [
    "# get all the reviews and corresponding class\n",
    "documents = [(list(movie_reviews.words(fileid)), category) \n",
    "             for category in movie_reviews.categories()\n",
    "             for fileid in movie_reviews.fileids(category)]\n",
    "\n",
    "# shuffle the documents\n",
    "random.shuffle(documents)\n",
    "\n",
    "print('Number of documents: {}'.format(len(documents)))\n",
    "print('\\nFirst review: {}'.format(documents[0]))\n",
    "\n",
    "all_words = []\n",
    "for word in movie_reviews.words():\n",
    "    all_words.append(word.lower())\n",
    "    \n",
    "all_words = nltk.FreqDist(all_words)\n",
    "print('\\nvocab size: {}'.format(len(all_words)))\n",
    "print('\\nMost common words: {}'.format(all_words.most_common(15)))"
   ]
  },
  {
   "cell_type": "code",
   "execution_count": 190,
   "metadata": {},
   "outputs": [],
   "source": [
    "# we will select the most 5000 common words as per the frequency\n",
    "word_features = all_words.most_common(5000)\n",
    "word_features = [word[0] for word in word_features]"
   ]
  },
  {
   "cell_type": "code",
   "execution_count": 192,
   "metadata": {},
   "outputs": [],
   "source": [
    "# function to determine which of these common words are present in the reviews\n",
    "def find_features(document):\n",
    "    words = set(document)\n",
    "    features = dict()\n",
    "    for word in word_features:\n",
    "        features[word] = (word in words)\n",
    "    return features"
   ]
  },
  {
   "cell_type": "code",
   "execution_count": 193,
   "metadata": {},
   "outputs": [],
   "source": [
    "# form the dataset for training and testing\n",
    "dataset = [(find_features(review), category) for (review, category) in documents]"
   ]
  },
  {
   "cell_type": "code",
   "execution_count": 194,
   "metadata": {},
   "outputs": [
    {
     "name": "stdout",
     "output_type": "stream",
     "text": [
      "Train data: 1500\n",
      "Test data: 500\n"
     ]
    }
   ],
   "source": [
    "# split the data for training and testing\n",
    "from sklearn.model_selection import train_test_split\n",
    "\n",
    "train_data, test_data = train_test_split(dataset, test_size=0.25, random_state=3)\n",
    "print('Train data: {}'.format(len(train_data)))\n",
    "print('Test data: {}'.format(len(test_data)))"
   ]
  },
  {
   "cell_type": "code",
   "execution_count": 195,
   "metadata": {},
   "outputs": [],
   "source": [
    "# Build the model\n",
    "from nltk.classify.scikitlearn import SklearnClassifier\n",
    "from sklearn.svm import SVC\n",
    "\n",
    "model = SklearnClassifier(SVC(kernel='linear'))"
   ]
  },
  {
   "cell_type": "code",
   "execution_count": 196,
   "metadata": {},
   "outputs": [
    {
     "data": {
      "text/plain": [
       "<SklearnClassifier(SVC(C=1.0, cache_size=200, class_weight=None, coef0=0.0,\n",
       "  decision_function_shape='ovr', degree=3, gamma='auto', kernel='linear',\n",
       "  max_iter=-1, probability=False, random_state=None, shrinking=True,\n",
       "  tol=0.001, verbose=False))>"
      ]
     },
     "execution_count": 196,
     "metadata": {},
     "output_type": "execute_result"
    }
   ],
   "source": [
    "# train the model using train_data\n",
    "model.train(train_data)"
   ]
  },
  {
   "cell_type": "code",
   "execution_count": 197,
   "metadata": {},
   "outputs": [
    {
     "name": "stdout",
     "output_type": "stream",
     "text": [
      "0.83\n"
     ]
    }
   ],
   "source": [
    "# evaluate the model using test_data\n",
    "accuracy = nltk.classify.accuracy(model, test_data)\n",
    "print(accuracy)"
   ]
  },
  {
   "cell_type": "code",
   "execution_count": null,
   "metadata": {},
   "outputs": [],
   "source": []
  }
 ],
 "metadata": {
  "kernelspec": {
   "display_name": "Python 3",
   "language": "python",
   "name": "python3"
  },
  "language_info": {
   "codemirror_mode": {
    "name": "ipython",
    "version": 3
   },
   "file_extension": ".py",
   "mimetype": "text/x-python",
   "name": "python",
   "nbconvert_exporter": "python",
   "pygments_lexer": "ipython3",
   "version": "3.6.1"
  }
 },
 "nbformat": 4,
 "nbformat_minor": 2
}
