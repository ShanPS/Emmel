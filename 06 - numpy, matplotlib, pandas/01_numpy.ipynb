{
 "cells": [
  {
   "cell_type": "markdown",
   "metadata": {},
   "source": [
    "## NUMPY\n",
    "NumPy is a Python package. It stands for 'Numerical Python'. It is a library consisting of multidimensional array objects and a collection of routines for processing of array.\n",
    "\n",
    "Using NumPy, we can perform the following operations −\n",
    "    * Mathematical and logical operations on arrays.\n",
    "    * Fourier transforms and routines for shape manipulation.\n",
    "    * Operations related to linear algebra. NumPy has in-built functions for linear algebra and random number generation.\n",
    "\n",
    "Numpy provides:\n",
    "    * extension package to python for multi-dimensional arrays\n",
    "    * closer to hardware (efficiency)\n",
    "    * designed for scientific computation (convenience)\n",
    "    * also known as array oriented computing"
   ]
  },
  {
   "cell_type": "code",
   "execution_count": 1,
   "metadata": {},
   "outputs": [
    {
     "name": "stdout",
     "output_type": "stream",
     "text": [
      "[1 2 3 4]\n",
      "[0 1 2 3 4 5 6 7 8 9]\n"
     ]
    }
   ],
   "source": [
    "import numpy as np\n",
    "\n",
    "a1 = np.array([1, 2, 3, 4])\n",
    "a2 = np.arange(10)\n",
    "\n",
    "print(a1)\n",
    "print(a2)"
   ]
  },
  {
   "cell_type": "code",
   "execution_count": 2,
   "metadata": {},
   "outputs": [
    {
     "name": "stdout",
     "output_type": "stream",
     "text": [
      "634 µs ± 24.1 µs per loop (mean ± std. dev. of 7 runs, 1000 loops each)\n",
      "2.31 µs ± 73.3 ns per loop (mean ± std. dev. of 7 runs, 100000 loops each)\n"
     ]
    }
   ],
   "source": [
    "# advantage of numpy array over lists\n",
    "L = range(1000)\n",
    "%timeit [i**2 for i in L]\n",
    "\n",
    "A = np.arange(1000)\n",
    "%timeit A**2"
   ]
  },
  {
   "cell_type": "code",
   "execution_count": 3,
   "metadata": {},
   "outputs": [
    {
     "name": "stdout",
     "output_type": "stream",
     "text": [
      "a1: [1 2 3]\n",
      "a1 dim: 1\n",
      "a1 shape: (3,)\n",
      "a1 size: 3\n",
      "a2: [[1 2 3]\n",
      " [3 4 5]]\n",
      "a2 dim: 2\n",
      "a2 shape: (2, 3)\n",
      "a2 size: 6\n"
     ]
    }
   ],
   "source": [
    "a1 = np.array([1, 2, 3])\n",
    "print('a1:', a1)\n",
    "print('a1 dim:', a1.ndim)\n",
    "print('a1 shape:', a1.shape)\n",
    "print('a1 size:', a1.size)\n",
    "\n",
    "a2 = np.array([[1, 2, 3], [3, 4, 5]])\n",
    "print('a2:', a2)\n",
    "print('a2 dim:', a2.ndim)\n",
    "print('a2 shape:', a2.shape)\n",
    "print('a2 size:', a2.size)"
   ]
  },
  {
   "cell_type": "code",
   "execution_count": 4,
   "metadata": {},
   "outputs": [
    {
     "name": "stdout",
     "output_type": "stream",
     "text": [
      "a1: [1 2 3 4]\n",
      "a2: [0 1 2 3]\n",
      "a3: [1 3 5 7 9]\n",
      "a4: [ 0.          0.33333333  0.66666667  1.        ]\n"
     ]
    }
   ],
   "source": [
    "# array creation\n",
    "a1 = np.array([1, 2, 3, 4])\n",
    "print('a1:', a1)\n",
    "a2 = np.arange(4)\n",
    "print('a2:', a2)\n",
    "a3 = np.arange(1, 10, 2)     # (start, end(not included), step)\n",
    "print('a3:', a3)\n",
    "a4 = np.linspace(0, 1, 4)    # (start, end(included), no. of values)\n",
    "print('a4:', a4)"
   ]
  },
  {
   "cell_type": "code",
   "execution_count": 5,
   "metadata": {},
   "outputs": [
    {
     "name": "stdout",
     "output_type": "stream",
     "text": [
      "ones:\n",
      " [[ 1.  1.  1.]\n",
      " [ 1.  1.  1.]\n",
      " [ 1.  1.  1.]]\n",
      "zeros:\n",
      " [[ 0.  0.  0.]\n",
      " [ 0.  0.  0.]\n",
      " [ 0.  0.  0.]]\n",
      "identity:\n",
      " [[ 1.  0.  0.]\n",
      " [ 0.  1.  0.]\n",
      " [ 0.  0.  1.]]\n",
      "diagonal:\n",
      " [[1 0 0 0]\n",
      " [0 2 0 0]\n",
      " [0 0 3 0]\n",
      " [0 0 0 4]]\n"
     ]
    }
   ],
   "source": [
    "# special type arrays\n",
    "a5 = np.ones((3,3))\n",
    "print('ones:\\n', a5)\n",
    "a6 = np.zeros((3,3))\n",
    "print('zeros:\\n', a6)\n",
    "a7 = np.eye(3)\n",
    "print('identity:\\n', a7)\n",
    "a8 = np.diag([1, 2, 3, 4])\n",
    "print('diagonal:\\n', a8)"
   ]
  },
  {
   "cell_type": "code",
   "execution_count": 6,
   "metadata": {},
   "outputs": [
    {
     "name": "stdout",
     "output_type": "stream",
     "text": [
      "uniform:\n",
      " [[ 0.32559421  0.41228596  0.51716788]\n",
      " [ 0.82680237  0.88719064  0.47323966]]\n",
      "standard:\n",
      " [[ 0.40864786  0.06046272 -0.31854193]\n",
      " [-1.96549881 -0.64231088 -0.76737038]]\n",
      "uniform (range=1 to 3):\n",
      " [[ 1.62967504  1.78877676  1.90370297]\n",
      " [ 2.86034349  1.82774475  2.1003869 ]]\n",
      "random integers (range= 1 to 10):\n",
      " [[8 7 5]\n",
      " [9 2 5]]\n"
     ]
    }
   ],
   "source": [
    "# array using random()\n",
    "r1 = np.random.rand(2, 3)   # uniform random number between 0 and 1\n",
    "print('uniform:\\n', r1)\n",
    "r2 = np.random.randn(2, 3)  # standard normal variable\n",
    "print('standard:\\n', r2)\n",
    "r3 = np.random.uniform(1, 3, size=(2, 3))   # uniform random variable (start, end, size=(...))\n",
    "print('uniform (range=1 to 3):\\n', r3)\n",
    "r4 = np.random.randint(1, 10, size=(2, 3))   # random intergers (start, end, size(...))\n",
    "print('random integers (range= 1 to 10):\\n', r4)"
   ]
  },
  {
   "cell_type": "code",
   "execution_count": 7,
   "metadata": {},
   "outputs": [
    {
     "name": "stdout",
     "output_type": "stream",
     "text": [
      "int32\n",
      "float32\n",
      "float64\n",
      "complex128\n",
      "bool\n",
      "<U5\n",
      "float64\n",
      "float64\n",
      "float64\n"
     ]
    }
   ],
   "source": [
    "# dtype (there are few more data types than specified here)\n",
    "a1 = np.array([1, 2, 3, 4])\n",
    "print(a1.dtype)\n",
    "a1 = a1.astype('float32')\n",
    "print(a1.dtype)\n",
    "a2 = np.array([1, 2, 3, 4], dtype='float64')\n",
    "print(a2.dtype)\n",
    "a3 = np.array([1 + 2j, 3 + 4j])\n",
    "print(a3.dtype)\n",
    "a4 = np.array([True, False])\n",
    "print(a4.dtype)\n",
    "a5 = np.array(['tom', 'harry'])\n",
    "print(a5.dtype)\n",
    "\n",
    "print(np.zeros(1).dtype)\n",
    "print(np.ones(1).dtype)\n",
    "print(np.eye(1).dtype)"
   ]
  },
  {
   "cell_type": "code",
   "execution_count": 8,
   "metadata": {},
   "outputs": [
    {
     "name": "stdout",
     "output_type": "stream",
     "text": [
      "[0 1 2 3 4 5 6 7 8 9]\n",
      "[2 4 6 8]\n",
      "[9 8 7 6 5 4 3 2 1 0]\n"
     ]
    }
   ],
   "source": [
    "# slicing\n",
    "a1 = np.arange(10)\n",
    "print(a1)\n",
    "a2 = a1[2:-1:2]      # [start, end, step]\n",
    "print(a2)\n",
    "a3 = a1[::-1]\n",
    "print(a3)"
   ]
  },
  {
   "cell_type": "code",
   "execution_count": 9,
   "metadata": {},
   "outputs": [
    {
     "name": "stdout",
     "output_type": "stream",
     "text": [
      "a1: [0 1 2 3 4 5 6 7 8 9]\n",
      "a2: [0 2 4 6 8]\n",
      "a3: [0 2 4 6 8]\n",
      "a1 and a2 shares mem: True\n",
      "a1 and a3 shares mem: False\n",
      "a1: [100   1   2   3   4   5   6   7   8   9]\n",
      "a2: [100   2   4   6   8]\n",
      "a3: [0 2 4 6 8]\n",
      "a1: [100   1   2   3   4   5   6   7   8   9]\n",
      "a2: [100   2   4   6   8]\n",
      "a3: [123   2   4   6   8]\n"
     ]
    }
   ],
   "source": [
    "# copies and views\n",
    "a1 = np.arange(10)\n",
    "print('a1:', a1)\n",
    "a2 = a1[::2]           # creates a view -> shares memory\n",
    "print('a2:', a2)\n",
    "a3 = a1[::2].copy()    # creates a copy -> different memory loc\n",
    "print('a3:', a3)\n",
    "print('a1 and a2 shares mem:', np.shares_memory(a1, a2))\n",
    "print('a1 and a3 shares mem:', np.shares_memory(a1, a3))\n",
    "\n",
    "a2[0] = 100\n",
    "print('a1:', a1)\n",
    "print('a2:', a2)\n",
    "print('a3:', a3)\n",
    "a3[0] = 123\n",
    "print('a1:', a1)\n",
    "print('a2:', a2)\n",
    "print('a3:', a3)"
   ]
  },
  {
   "cell_type": "code",
   "execution_count": 10,
   "metadata": {},
   "outputs": [
    {
     "name": "stdout",
     "output_type": "stream",
     "text": [
      "a1:\n",
      " [0 1 2 3 4 5 6 7 8 9]\n",
      "mask:\n",
      " [ True False  True False  True False  True False  True False]\n",
      "extracted:\n",
      " [0 2 4 6 8]\n",
      "a1:\n",
      " [-1  1 -1  3 -1  5 -1  7 -1  9]\n"
     ]
    }
   ],
   "source": [
    "# boolean masking --->> creates copy instead of view\n",
    "a1 = np.arange(10)\n",
    "mask = (a1 % 2 == 0)\n",
    "extracted = a1[mask]\n",
    "print('a1:\\n', a1)\n",
    "print('mask:\\n', mask)\n",
    "print('extracted:\\n', extracted)\n",
    "\n",
    "a1[mask] = -1\n",
    "print('a1:\\n', a1)"
   ]
  },
  {
   "cell_type": "code",
   "execution_count": 11,
   "metadata": {},
   "outputs": [
    {
     "name": "stdout",
     "output_type": "stream",
     "text": [
      "a1:\n",
      " [4 2 7 5 2 4]\n",
      "a2:\n",
      " [5 7 2 4 5 7 2 4]\n",
      "a1:\n",
      " [100 100   7   5   2   4]\n"
     ]
    }
   ],
   "source": [
    "# indexing with array\n",
    "a1 = np.array([4, 2, 7, 5, 2, 4])\n",
    "print('a1:\\n', a1)\n",
    "a2 = a1[[3, 2, 1, 0, 3, 2, 1, 0]]\n",
    "print('a2:\\n', a2)\n",
    "a1[[0,1]] = 100\n",
    "print('a1:\\n', a1)"
   ]
  },
  {
   "cell_type": "code",
   "execution_count": 12,
   "metadata": {},
   "outputs": [
    {
     "name": "stdout",
     "output_type": "stream",
     "text": [
      "a1:\n",
      " [[9 4 9]\n",
      " [9 1 6]\n",
      " [4 6 8]]\n",
      "a2:\n",
      " [[7 1 5]\n",
      " [8 9 2]\n",
      " [7 3 3]]\n",
      "a1*a2:\n",
      " [[63  4 45]\n",
      " [72  9 12]\n",
      " [28 18 24]]\n",
      "a1.dot(a2):\n",
      " [[158  72  80]\n",
      " [113  36  65]\n",
      " [132  82  56]]\n",
      "a1 transpose:\n",
      " [[9 9 4]\n",
      " [4 1 6]\n",
      " [9 6 8]]\n"
     ]
    }
   ],
   "source": [
    "# matrix multiplication\n",
    "np.random.seed(3)\n",
    "a1 = np.random.randint(1, 10, (3, 3))\n",
    "a2 = np.random.randint(1, 10, (3, 3))\n",
    "print('a1:\\n', a1)\n",
    "print('a2:\\n', a2)\n",
    "\n",
    "print('a1*a2:\\n', a1 * a2)     # element-wise multiplication - works only for same shaped matrix\n",
    "print('a1.dot(a2):\\n', a1.dot(a2))  # matrix multiplication - works when number of a1.col == a2.row\n",
    "\n",
    "print('a1 transpose:\\n', a1.T)"
   ]
  },
  {
   "cell_type": "code",
   "execution_count": 13,
   "metadata": {},
   "outputs": [
    {
     "name": "stdout",
     "output_type": "stream",
     "text": [
      "[ True False  True False]\n",
      "False\n"
     ]
    }
   ],
   "source": [
    "# comparison\n",
    "a1 = np.array([1, 2, 3, 4])\n",
    "a2 = np.array([1, 5, 3, 2])\n",
    "\n",
    "print(a1 == a2)     # element-wise comparison\n",
    "print(np.array_equal(a1, a2))   # complete array comparison"
   ]
  },
  {
   "cell_type": "code",
   "execution_count": 14,
   "metadata": {},
   "outputs": [
    {
     "name": "stdout",
     "output_type": "stream",
     "text": [
      "[False False False  True]\n",
      "False\n",
      "True\n"
     ]
    }
   ],
   "source": [
    "# logical operations\n",
    "a1 = np.array([1, 0, 1, 1])\n",
    "a2 = np.array([0, 1, 0, 1])\n",
    "\n",
    "print(np.logical_and(a1, a2))\n",
    "\n",
    "print(np.all([True, False, True]))  # returns True if all are True\n",
    "print(np.any([False, True, True]))  # returns True if any one is True"
   ]
  },
  {
   "cell_type": "code",
   "execution_count": 15,
   "metadata": {},
   "outputs": [
    {
     "name": "stdout",
     "output_type": "stream",
     "text": [
      "[ 0.          0.84147098  0.90929743  0.14112001 -0.7568025 ]\n",
      "[       -inf  0.          0.69314718  1.09861229  1.38629436]\n",
      "[  1.           2.71828183   7.3890561   20.08553692  54.59815003]\n"
     ]
    },
    {
     "name": "stderr",
     "output_type": "stream",
     "text": [
      "c:\\program files\\python36\\lib\\site-packages\\ipykernel_launcher.py:4: RuntimeWarning: divide by zero encountered in log\n",
      "  after removing the cwd from sys.path.\n"
     ]
    }
   ],
   "source": [
    "# transcendental functions\n",
    "a1 = np.array([0, 1, 2, 3, 4])\n",
    "print(np.sin(a1))\n",
    "print(np.log(a1))\n",
    "print(np.exp(a1))"
   ]
  },
  {
   "cell_type": "code",
   "execution_count": 16,
   "metadata": {},
   "outputs": [
    {
     "name": "stdout",
     "output_type": "stream",
     "text": [
      "a1:\n",
      " [0 1 2 3 4 5 6 7 8 9]\n",
      "a1 sum: 45\n",
      "a2:\n",
      " [[0 1 2]\n",
      " [3 4 5]\n",
      " [6 7 8]]\n",
      "a2 sum (axis=0):\n",
      " [ 9 12 15]\n"
     ]
    }
   ],
   "source": [
    "# reductions\n",
    "a1 = np.arange(10)\n",
    "print('a1:\\n', a1)\n",
    "print('a1 sum:', np.sum(a1))\n",
    "\n",
    "a2 = np.arange(9).reshape(3,3)\n",
    "print('a2:\\n', a2)\n",
    "print('a2 sum (axis=0):\\n', np.sum(a2, axis=0))"
   ]
  },
  {
   "cell_type": "code",
   "execution_count": 17,
   "metadata": {},
   "outputs": [
    {
     "name": "stdout",
     "output_type": "stream",
     "text": [
      "1\n",
      "8\n",
      "1\n",
      "3\n"
     ]
    }
   ],
   "source": [
    "a1 = np.array([3, 1, 5, 8])\n",
    "print(a1.min())\n",
    "print(a1.max())\n",
    "print(a1.argmin())   # returns index\n",
    "print(a1.argmax())   # returns index"
   ]
  },
  {
   "cell_type": "code",
   "execution_count": 18,
   "metadata": {},
   "outputs": [
    {
     "name": "stdout",
     "output_type": "stream",
     "text": [
      "2.8\n",
      "2.0\n",
      "1.46969384567\n"
     ]
    }
   ],
   "source": [
    "# stats\n",
    "a1 = np.array([1, 2, 2, 4, 5])\n",
    "print(np.mean(a1))\n",
    "print(np.median(a1))\n",
    "print(np.std(a1))"
   ]
  },
  {
   "cell_type": "code",
   "execution_count": 19,
   "metadata": {},
   "outputs": [],
   "source": [
    "# load from txt\n",
    "# data = np.loadtxt('file_name.txt')"
   ]
  },
  {
   "cell_type": "code",
   "execution_count": 20,
   "metadata": {},
   "outputs": [
    {
     "name": "stdout",
     "output_type": "stream",
     "text": [
      "a1:\n",
      " [[ 0 10 20 30]\n",
      " [ 0 10 20 30]\n",
      " [ 0 10 20 30]]\n",
      "a2:\n",
      " [0 1 2 3]\n",
      "a1+a2:\n",
      " [[ 0 11 22 33]\n",
      " [ 0 11 22 33]\n",
      " [ 0 11 22 33]]\n"
     ]
    }
   ],
   "source": [
    "# numpy broadcasting\n",
    "a1 = np.tile(np.arange(0, 40, 10), (3,1))\n",
    "print('a1:\\n', a1)\n",
    "\n",
    "a2 = np.arange(0, 4, 1)\n",
    "print('a2:\\n', a2)\n",
    "\n",
    "print('a1+a2:\\n', a1 + a2)"
   ]
  },
  {
   "cell_type": "code",
   "execution_count": 21,
   "metadata": {},
   "outputs": [
    {
     "name": "stdout",
     "output_type": "stream",
     "text": [
      "a1:\n",
      " [0 1 2 3]\n",
      "a2:\n",
      " [0 1 2 3]\n",
      "a1+a2 (before newaxis):\n",
      " [0 2 4 6]\n",
      "a1+a2 (after newaxis):\n",
      " [[0 1 2 3]\n",
      " [1 2 3 4]\n",
      " [2 3 4 5]\n",
      " [3 4 5 6]]\n"
     ]
    }
   ],
   "source": [
    "a1 = np.arange(0, 4, 1)\n",
    "a2 = np.arange(0, 4, 1)\n",
    "print('a1:\\n', a1)\n",
    "print('a2:\\n', a2)\n",
    "print('a1+a2 (before newaxis):\\n', a1+a2)\n",
    "# a1 + a2  ---> results in element wise addition, broadcasting won't work as both are 1D arrays \n",
    "# to do broadcasting\n",
    "a1 = a1[:, np.newaxis]\n",
    "print('a1+a2 (after newaxis):\\n', a1+a2)"
   ]
  },
  {
   "cell_type": "code",
   "execution_count": 22,
   "metadata": {},
   "outputs": [
    {
     "name": "stdout",
     "output_type": "stream",
     "text": [
      "a1:\n",
      " [[1 2]\n",
      " [3 4]\n",
      " [5 6]]\n",
      "a1 ravel:\n",
      " [1 2 3 4 5 6]\n",
      "a1 reshape:\n",
      " [[1 2 3]\n",
      " [4 5 6]]\n"
     ]
    }
   ],
   "source": [
    "# reshapings\n",
    "a1 = np.array([[1, 2], [3, 4], [5, 6]])\n",
    "print('a1:\\n', a1)\n",
    "print('a1 ravel:\\n', a1.ravel())\n",
    "print('a1 reshape:\\n', a1.reshape(2,3))"
   ]
  },
  {
   "cell_type": "code",
   "execution_count": 23,
   "metadata": {},
   "outputs": [
    {
     "name": "stdout",
     "output_type": "stream",
     "text": [
      "[0 1 2 3 4]\n",
      "[0 1 2 3 4 0 0 0 0 0]\n"
     ]
    }
   ],
   "source": [
    "# resize\n",
    "a1 = np.arange(5)\n",
    "print(a1)\n",
    "a1.resize(10)\n",
    "print(a1)\n",
    "\n",
    "# note: resize won't work if the same values in memory is referenced by another variable"
   ]
  },
  {
   "cell_type": "code",
   "execution_count": 24,
   "metadata": {},
   "outputs": [
    {
     "name": "stdout",
     "output_type": "stream",
     "text": [
      "a1:\n",
      " [[0 1 2 3 4]\n",
      " [5 6 7 8 9]]\n",
      "a1 (after np.sort):\n",
      " [[0 1 2 3 4]\n",
      " [5 6 7 8 9]]\n",
      "a2:\n",
      " [[0 1 2 3 4]\n",
      " [5 6 7 8 9]]\n",
      "a1:\n",
      " [[0 1 2 3 4]\n",
      " [5 6 7 8 9]]\n"
     ]
    }
   ],
   "source": [
    "# sorting\n",
    "a1 = np.arange(10).reshape(2,5)\n",
    "print('a1:\\n', a1)\n",
    "a2 = np.sort(a1, axis=1)   # returns sorted elements\n",
    "print('a1 (after np.sort):\\n', a1)\n",
    "print('a2:\\n', a2)\n",
    "a1.sort(axis=1)            # inplace sorting\n",
    "print('a1:\\n', a1)"
   ]
  },
  {
   "cell_type": "code",
   "execution_count": 25,
   "metadata": {},
   "outputs": [
    {
     "name": "stdout",
     "output_type": "stream",
     "text": [
      "a2 (argsort):\n",
      " [2 0 1 3]\n",
      "a1[a2]:\n",
      " [1 2 3 4]\n"
     ]
    }
   ],
   "source": [
    "# sorting with fancy indexing\n",
    "a1 = np.array([2, 3, 1, 4])\n",
    "a2 = np.argsort(a1)\n",
    "print('a2 (argsort):\\n', a2)\n",
    "print('a1[a2]:\\n', a1[a2])"
   ]
  }
 ],
 "metadata": {
  "kernelspec": {
   "display_name": "Python 3",
   "language": "python",
   "name": "python3"
  },
  "language_info": {
   "codemirror_mode": {
    "name": "ipython",
    "version": 3
   },
   "file_extension": ".py",
   "mimetype": "text/x-python",
   "name": "python",
   "nbconvert_exporter": "python",
   "pygments_lexer": "ipython3",
   "version": "3.6.1"
  }
 },
 "nbformat": 4,
 "nbformat_minor": 2
}
