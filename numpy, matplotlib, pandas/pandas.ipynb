{
 "cells": [
  {
   "cell_type": "markdown",
   "metadata": {},
   "source": [
    "## Pandas\n",
    "Pandas is an open-source Python library providing high-performance, easy-to-use data structures and data analysis tools.\n",
    "\n",
    "Features:\n",
    "    * Fast and efficient DataFrame object with default and customized indexing.\n",
    "    * Tools for loading data into in-memory data objects from different file formats.\n",
    "    * Data alignment and integrated handling of missing data.\n",
    "    * Reshaping and pivoting of date sets.\n",
    "    * Label-based slicing, indexing and subsetting of large data sets.\n",
    "    * Columns from a data structure can be deleted or inserted.\n",
    "    * Group by data for aggregation and transformations.\n",
    "    * High performance merging and joining of data.\n",
    "    * Time Series functionality.\n"
   ]
  },
  {
   "cell_type": "code",
   "execution_count": 1,
   "metadata": {},
   "outputs": [
    {
     "name": "stdout",
     "output_type": "stream",
     "text": [
      "       date  maximum temperature  minimum temperature  average temperature  \\\n",
      "0  1-1-2016                   42                   34                 38.0   \n",
      "1  2-1-2016                   40                   32                 36.0   \n",
      "2  3-1-2016                   45                   35                 40.0   \n",
      "3  4-1-2016                   36                   14                 25.0   \n",
      "4  5-1-2016                   29                   11                 20.0   \n",
      "\n",
      "  precipitation snow fall snow depth  \n",
      "0          0.00       0.0          0  \n",
      "1          0.00       0.0          0  \n",
      "2          0.00       0.0          0  \n",
      "3          0.00       0.0          0  \n",
      "4          0.00       0.0          0  \n",
      "\n",
      "columns:\n",
      " Index(['date', 'maximum temperature', 'minimum temperature',\n",
      "       'average temperature', 'precipitation', 'snow fall', 'snow depth'],\n",
      "      dtype='object')\n",
      "\n",
      "maximum temp: 96\n",
      "204    23-7-2016\n",
      "225    13-8-2016\n",
      "Name: date, dtype: object\n",
      "\n",
      "avg temp desription:\n",
      " count    366.000000\n",
      "mean      57.215847\n",
      "std       17.124760\n",
      "min        7.000000\n",
      "25%       44.000000\n",
      "50%       55.750000\n",
      "75%       73.500000\n",
      "max       88.500000\n",
      "Name: average temperature, dtype: float64\n"
     ]
    }
   ],
   "source": [
    "import pandas as pd\n",
    "\n",
    "# read data from csv file\n",
    "df = pd.read_csv('nyc_weather.csv')\n",
    "# df.to_csv('file_name.csv', index=False)  # saves df to a csv file\n",
    "\n",
    "# top few rows. (can use 'tail()' for last few rows)\n",
    "print(df.head())\n",
    "# column names\n",
    "print('\\ncolumns:\\n', df.columns)\n",
    "# maximum temperature\n",
    "print('\\nmaximum temp:', df['maximum temperature'].max())\n",
    "# dates which had maximum temperature\n",
    "print(df['date'][df['maximum temperature'] == df['maximum temperature'].max()])\n",
    "# avg temperature description\n",
    "print('\\navg temp desription:\\n', df['average temperature'].describe())\n",
    "\n",
    "# note: df['date'] is same as df.date"
   ]
  },
  {
   "cell_type": "code",
   "execution_count": 2,
   "metadata": {},
   "outputs": [
    {
     "name": "stdout",
     "output_type": "stream",
     "text": [
      "dataframe:\n",
      "     name  weight  height\n",
      "0    tom      65     180\n",
      "1  harry      78     176\n",
      "2   john      61     170\n",
      "\n",
      "shape: (3, 3)\n",
      "\n",
      "names:\n",
      " 0      tom\n",
      "1    harry\n",
      "2     john\n",
      "Name: name, dtype: object\n"
     ]
    }
   ],
   "source": [
    "# loading a dataframe from lists or tuples (we can load the data from dict also)\n",
    "data = [['tom', 65, 180],\n",
    "        ['harry', 78, 176],\n",
    "        ['john', 61, 170]]\n",
    "\n",
    "df_list = pd.DataFrame(data, columns=['name', 'weight', 'height'])\n",
    "print('dataframe:\\n', df_list)\n",
    "print('\\nshape:', df_list.shape)\n",
    "print('\\nnames:\\n', df_list['name'])"
   ]
  },
  {
   "cell_type": "code",
   "execution_count": 3,
   "metadata": {},
   "outputs": [],
   "source": [
    "# groupby - groups df as per value of given parameter\n",
    "\n",
    "# group = df.groupby('city')\n",
    "# group.max()   # for each group return max for each column"
   ]
  },
  {
   "cell_type": "code",
   "execution_count": 4,
   "metadata": {},
   "outputs": [],
   "source": [
    "# concatenate dataframes\n",
    "\n",
    "# df = pd.concat([df1, df2])"
   ]
  },
  {
   "cell_type": "code",
   "execution_count": 5,
   "metadata": {},
   "outputs": [],
   "source": [
    "# merge - same as join in sql\n",
    "\n",
    "# df = pd.merge(df1, df2, on='column_to_do_merge_on')\n",
    "# df = pd.merge(df1, df2, on='column_to_do_merge_on', how='outer')  # same as outer join (doesn't skip rows)"
   ]
  },
  {
   "cell_type": "code",
   "execution_count": 6,
   "metadata": {},
   "outputs": [],
   "source": [
    "# loc and iloc\n",
    "\n",
    "# df.loc[i]    # returns values at index i\n",
    "# df.iloc[i]   # returns values at row i\n",
    "\n",
    "# by default 'index == row number'"
   ]
  }
 ],
 "metadata": {
  "kernelspec": {
   "display_name": "Python 3",
   "language": "python",
   "name": "python3"
  },
  "language_info": {
   "codemirror_mode": {
    "name": "ipython",
    "version": 3
   },
   "file_extension": ".py",
   "mimetype": "text/x-python",
   "name": "python",
   "nbconvert_exporter": "python",
   "pygments_lexer": "ipython3",
   "version": "3.6.1"
  }
 },
 "nbformat": 4,
 "nbformat_minor": 2
}
